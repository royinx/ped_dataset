{
 "cells": [
  {
   "cell_type": "code",
   "execution_count": 1,
   "metadata": {},
   "outputs": [],
   "source": [
    "classes_names = ['person']"
   ]
  },
  {
   "cell_type": "code",
   "execution_count": 8,
   "metadata": {},
   "outputs": [
    {
     "name": "stdout",
     "output_type": "stream",
     "text": [
      "Requirement already satisfied: tqdm in /usr/local/lib/python3.6/dist-packages (4.60.0)\n",
      "Requirement already satisfied: scikit-image in /usr/local/lib/python3.6/dist-packages (0.17.2)\n",
      "Requirement already satisfied: imageio>=2.3.0 in /usr/local/lib/python3.6/dist-packages (from scikit-image) (2.9.0)\n",
      "Requirement already satisfied: tifffile>=2019.7.26 in /usr/local/lib/python3.6/dist-packages (from scikit-image) (2020.9.3)\n",
      "Requirement already satisfied: matplotlib!=3.0.0,>=2.0.0 in /usr/local/lib/python3.6/dist-packages (from scikit-image) (3.3.4)\n",
      "Requirement already satisfied: numpy>=1.15.1 in /usr/local/lib/python3.6/dist-packages (from scikit-image) (1.19.5)\n",
      "Requirement already satisfied: PyWavelets>=1.1.1 in /usr/local/lib/python3.6/dist-packages (from scikit-image) (1.1.1)\n",
      "Requirement already satisfied: pillow!=7.1.0,!=7.1.1,>=4.3.0 in /usr/local/lib/python3.6/dist-packages (from scikit-image) (8.2.0)\n",
      "Requirement already satisfied: networkx>=2.0 in /usr/local/lib/python3.6/dist-packages (from scikit-image) (2.5.1)\n",
      "Requirement already satisfied: scipy>=1.0.1 in /usr/local/lib/python3.6/dist-packages (from scikit-image) (1.5.4)\n",
      "Requirement already satisfied: python-dateutil>=2.1 in /usr/local/lib/python3.6/dist-packages (from matplotlib!=3.0.0,>=2.0.0->scikit-image) (2.8.1)\n",
      "Requirement already satisfied: cycler>=0.10 in /usr/local/lib/python3.6/dist-packages (from matplotlib!=3.0.0,>=2.0.0->scikit-image) (0.10.0)\n",
      "Requirement already satisfied: pyparsing!=2.0.4,!=2.1.2,!=2.1.6,>=2.0.3 in /usr/local/lib/python3.6/dist-packages (from matplotlib!=3.0.0,>=2.0.0->scikit-image) (2.4.7)\n",
      "Requirement already satisfied: kiwisolver>=1.0.1 in /usr/local/lib/python3.6/dist-packages (from matplotlib!=3.0.0,>=2.0.0->scikit-image) (1.3.1)\n",
      "Requirement already satisfied: six in /usr/local/lib/python3.6/dist-packages (from cycler>=0.10->matplotlib!=3.0.0,>=2.0.0->scikit-image) (1.15.0)\n",
      "Requirement already satisfied: decorator<5,>=4.3 in /usr/local/lib/python3.6/dist-packages (from networkx>=2.0->scikit-image) (4.4.2)\n"
     ]
    }
   ],
   "source": [
    "!pip3 install tqdm\n",
    "!pip3 install scikit-image"
   ]
  },
  {
   "cell_type": "code",
   "execution_count": 11,
   "metadata": {},
   "outputs": [
    {
     "name": "stdout",
     "output_type": "stream",
     "text": [
      "Ign:1 https://developer.download.nvidia.com/compute/cuda/repos/ubuntu1804/x86_64  InRelease\n",
      "Ign:2 https://developer.download.nvidia.com/compute/machine-learning/repos/ubuntu1804/x86_64  InRelease\n",
      "Hit:3 https://developer.download.nvidia.com/compute/cuda/repos/ubuntu1804/x86_64  Release\n",
      "Hit:4 https://developer.download.nvidia.com/compute/machine-learning/repos/ubuntu1804/x86_64  Release\n",
      "Hit:7 http://archive.ubuntu.com/ubuntu bionic InRelease                        \n",
      "Hit:8 http://security.ubuntu.com/ubuntu bionic-security InRelease       \n",
      "Hit:9 http://archive.ubuntu.com/ubuntu bionic-updates InRelease         \n",
      "Hit:10 http://archive.ubuntu.com/ubuntu bionic-backports InRelease\n",
      "Reading package lists... Done \n",
      "Reading package lists... Done\n",
      "Building dependency tree       \n",
      "Reading state information... Done\n",
      "libgl1-mesa-glx is already the newest version (20.0.8-0ubuntu1~18.04.1).\n",
      "0 upgraded, 0 newly installed, 0 to remove and 13 not upgraded.\n"
     ]
    }
   ],
   "source": [
    "!apt-get update && apt-get install -y libgl1-mesa-glx "
   ]
  },
  {
   "cell_type": "code",
   "execution_count": 14,
   "metadata": {},
   "outputs": [
    {
     "name": "stdout",
     "output_type": "stream",
     "text": [
      "Reading package lists... Done\n",
      "Building dependency tree       \n",
      "Reading state information... Done\n",
      "libglib2.0-0 is already the newest version (2.56.4-0ubuntu0.18.04.8).\n",
      "0 upgraded, 0 newly installed, 0 to remove and 13 not upgraded.\n"
     ]
    }
   ],
   "source": [
    "!apt-get install -y libglib2.0-0"
   ]
  },
  {
   "cell_type": "code",
   "execution_count": 25,
   "metadata": {},
   "outputs": [],
   "source": [
    "\n",
    "from pycocotools.coco import COCO\n",
    "import os\n",
    "import shutil\n",
    "from tqdm import tqdm\n",
    "import skimage.io as io\n",
    "import matplotlib.pyplot as plt\n",
    "import cv2\n",
    "from PIL import Image, ImageDraw\n",
    " \n",
    "#the path you want to save your results for coco to voc\n",
    "savepath=\"/dataset/COCO/result/\"\n",
    "img_dir=savepath+'images/'\n",
    "anno_dir=savepath+'Annotations/'\n",
    "# datasets_list=['train2014', 'val2014']\n",
    "datasets_list=['train2017']\n",
    " \n",
    "classes_names = ['person']\n",
    "#Store annotations and train2014/val2014/... in this folder\n",
    "dataDir= '/dataset/COCO/'\n",
    " \n",
    "headstr = \"\"\"\\\n",
    "<annotation>\n",
    "    <folder>VOC</folder>\n",
    "    <filename>%s</filename>\n",
    "    <source>\n",
    "        <database>My Database</database>\n",
    "        <annotation>COCO</annotation>\n",
    "        <image>flickr</image>\n",
    "        <flickrid>NULL</flickrid>\n",
    "    </source>\n",
    "    <owner>\n",
    "        <flickrid>NULL</flickrid>\n",
    "        <name>company</name>\n",
    "    </owner>\n",
    "    <size>\n",
    "        <width>%d</width>\n",
    "        <height>%d</height>\n",
    "        <depth>%d</depth>\n",
    "    </size>\n",
    "    <segmented>0</segmented>\n",
    "\"\"\"\n",
    "objstr = \"\"\"\\\n",
    "    <object>\n",
    "        <name>%s</name>\n",
    "        <pose>Unspecified</pose>\n",
    "        <truncated>0</truncated>\n",
    "        <difficult>0</difficult>\n",
    "        <bndbox>\n",
    "            <xmin>%d</xmin>\n",
    "            <ymin>%d</ymin>\n",
    "            <xmax>%d</xmax>\n",
    "            <ymax>%d</ymax>\n",
    "        </bndbox>\n",
    "    </object>\n",
    "\"\"\"\n",
    " \n",
    "tailstr = '''\\\n",
    "</annotation>\n",
    "'''\n"
   ]
  },
  {
   "cell_type": "code",
   "execution_count": 32,
   "metadata": {},
   "outputs": [
    {
     "name": "stdout",
     "output_type": "stream",
     "text": [
      "loading annotations into memory...\n",
      "Done (t=10.79s)\n",
      "creating index...\n"
     ]
    },
    {
     "name": "stderr",
     "output_type": "stream",
     "text": [
      "  0%|          | 14/64115 [00:00<07:47, 137.12it/s]"
     ]
    },
    {
     "name": "stdout",
     "output_type": "stream",
     "text": [
      "index created!\n"
     ]
    },
    {
     "name": "stderr",
     "output_type": "stream",
     "text": [
      "100%|██████████| 64115/64115 [23:15<00:00, 45.94it/s]  \n"
     ]
    }
   ],
   "source": [
    "\n",
    "#if the dir is not exists,make it,else delete it\n",
    "def mkr(path):\n",
    "    if os.path.exists(path):\n",
    "        shutil.rmtree(path)\n",
    "        os.mkdir(path)\n",
    "    else:\n",
    "        os.mkdir(path)\n",
    "mkr(img_dir)\n",
    "mkr(anno_dir)\n",
    "def id2name(coco):\n",
    "    classes=dict()\n",
    "    for cls in coco.dataset['categories']:\n",
    "        classes[cls['id']]=cls['name']\n",
    "    return classes\n",
    " \n",
    "def write_xml(anno_path,head, objs, tail):\n",
    "    f = open(anno_path, \"w\")\n",
    "    f.write(head)\n",
    "    for obj in objs:\n",
    "        f.write(objstr%(obj[0],obj[1],obj[2],obj[3],obj[4]))\n",
    "    f.write(tail)\n",
    " \n",
    " \n",
    "def save_annotations_and_imgs(coco,dataset,filename,objs):\n",
    "    #eg:COCO_train2014_000000196610.jpg-->COCO_train2014_000000196610.xml\n",
    "    anno_path=anno_dir+filename[:-3]+'xml'\n",
    "    img_path=dataDir+dataset+'/'+filename\n",
    "#     print(img_path)\n",
    "    dst_imgpath=img_dir+filename\n",
    " \n",
    "    img=cv2.imread(img_path)\n",
    "    if (img.shape[2] == 1):\n",
    "        print(filename + \" not a RGB image\")\n",
    "        return\n",
    "    shutil.copy(img_path, dst_imgpath)\n",
    " \n",
    "    head=headstr % (filename, img.shape[1], img.shape[0], img.shape[2])\n",
    "    tail = tailstr\n",
    "    write_xml(anno_path,head, objs, tail)\n",
    " \n",
    " \n",
    "def showimg(coco,dataset,img,classes,cls_id,show=True):\n",
    "    global dataDir\n",
    "    I=Image.open('%s/%s/%s'%(dataDir,dataset,img['file_name']))\n",
    "    #通过id，得到注释的信息\n",
    "    annIds = coco.getAnnIds(imgIds=img['id'], catIds=cls_id, iscrowd=None)\n",
    "    # print(annIds)\n",
    "    anns = coco.loadAnns(annIds)\n",
    "    # print(anns)\n",
    "    # coco.showAnns(anns)\n",
    "    objs = []\n",
    "    for ann in anns:\n",
    "        class_name=classes[ann['category_id']]\n",
    "        if class_name in classes_names:\n",
    "#             print(class_name)\n",
    "            if 'bbox' in ann:\n",
    "                bbox=ann['bbox']\n",
    "                xmin = int(bbox[0])\n",
    "                ymin = int(bbox[1])\n",
    "                xmax = int(bbox[2] + bbox[0])\n",
    "                ymax = int(bbox[3] + bbox[1])\n",
    "                obj = [class_name, xmin, ymin, xmax, ymax]\n",
    "                objs.append(obj)\n",
    "                draw = ImageDraw.Draw(I)\n",
    "                draw.rectangle([xmin, ymin, xmax, ymax])\n",
    "    if show:\n",
    "        plt.figure()\n",
    "        plt.axis('off')\n",
    "        plt.imshow(I)\n",
    "        plt.show()\n",
    " \n",
    "    return objs\n",
    " \n",
    "for dataset in datasets_list:\n",
    "\n",
    "    #./COCO/annotations/instances_train2014.json\n",
    "    annFile='{}/annotations/instances_{}.json'.format(dataDir,dataset)\n",
    " \n",
    "    #COCO API for initializing annotated data\n",
    "    coco = COCO(annFile)\n",
    "    '''\n",
    "    COCO 对象创建完毕后会输出如下信息:\n",
    "    loading annotations into memory...\n",
    "    Done (t=0.81s)\n",
    "    creating index...\n",
    "    index created!\n",
    "    至此, json 脚本解析完毕, 并且将图片和对应的标注数据关联起来.\n",
    "    '''\n",
    "    #show all classes in coco\n",
    "    classes = id2name(coco)\n",
    "#     print(classes)\n",
    "    #[1, 2, 3, 4, 6, 8]\n",
    "    classes_ids = coco.getCatIds(catNms=classes_names)\n",
    "#     print(classes_ids)\n",
    "    for cls in classes_names:\n",
    "        #Get ID number of this class\n",
    "        cls_id=coco.getCatIds(catNms=[cls])\n",
    "        img_ids=coco.getImgIds(catIds=cls_id)\n",
    "#         print(cls,len(img_ids))\n",
    "        # imgIds=img_ids[0:10]\n",
    "        for imgId in tqdm(img_ids):\n",
    "            img = coco.loadImgs(imgId)[0]\n",
    "            filename = img['file_name']\n",
    "            # print(filename)\n",
    "            objs=showimg(coco, dataset, img, classes,classes_ids,show=False)\n",
    "#             print(objs)\n",
    "            save_annotations_and_imgs(coco, dataset, filename, objs)"
   ]
  },
  {
   "cell_type": "code",
   "execution_count": null,
   "metadata": {},
   "outputs": [],
   "source": []
  }
 ],
 "metadata": {
  "kernelspec": {
   "display_name": "Python 3",
   "language": "python",
   "name": "python3"
  },
  "language_info": {
   "codemirror_mode": {
    "name": "ipython",
    "version": 3
   },
   "file_extension": ".py",
   "mimetype": "text/x-python",
   "name": "python",
   "nbconvert_exporter": "python",
   "pygments_lexer": "ipython3",
   "version": "3.6.7"
  }
 },
 "nbformat": 4,
 "nbformat_minor": 5
}
